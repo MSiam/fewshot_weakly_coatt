{
 "cells": [
  {
   "cell_type": "code",
   "execution_count": 1,
   "metadata": {},
   "outputs": [],
   "source": [
    "%load_ext autoreload\n",
    "%autoreload 2"
   ]
  },
  {
   "cell_type": "code",
   "execution_count": 2,
   "metadata": {},
   "outputs": [
    {
     "name": "stderr",
     "output_type": "stream",
     "text": [
      "/opt/conda/lib/python3.6/site-packages/tqdm/autonotebook.py:17: TqdmExperimentalWarning: Using `tqdm.autonotebook.tqdm` in notebook mode. Use `tqdm.tqdm` instead to force console mode (e.g. in jupyter console)\n",
      "  \" (e.g. in jupyter console)\", TqdmExperimentalWarning)\n"
     ]
    }
   ],
   "source": [
    "import os\n",
    "import numpy as np\n",
    "import pandas as pd\n",
    "from glob import glob\n",
    "from tqdm import tqdm\n",
    "import matplotlib.pyplot as plt\n",
    "import pathlib\n",
    "from tqdm.autonotebook import tqdm\n"
   ]
  },
  {
   "cell_type": "code",
   "execution_count": 3,
   "metadata": {},
   "outputs": [
    {
     "data": {
      "text/plain": [
       "['experiments/191029_210102_gamma_steplr_fold_num_epoch_lr_bs_model_type_seed_test_restartable/fold=0,gamma_steplr=1,num_epoch=60,lr=0.001,bs=4,model_type=nwe,seed=1337',\n",
       " 'experiments/191029_210102_gamma_steplr_fold_num_epoch_lr_bs_model_type_seed_test_restartable/fold=0,gamma_steplr=0.5,num_epoch=60,lr=0.001,bs=4,model_type=nwe,seed=1337']"
      ]
     },
     "execution_count": 3,
     "metadata": {},
     "output_type": "execute_result"
    }
   ],
   "source": [
    "exp_dir = \"experiments/191029_210102_gamma_steplr_fold_num_epoch_lr_bs_model_type_seed_test_restartable/*num_epoch=6*lr=0.001*bs=4*model_type=n*\"\n",
    "glob(exp_dir)\n"
   ]
  },
  {
   "cell_type": "code",
   "execution_count": 5,
   "metadata": {},
   "outputs": [
    {
     "data": {
      "application/vnd.jupyter.widget-view+json": {
       "model_id": "af13aada664e4151af680fe9355212d3",
       "version_major": 2,
       "version_minor": 0
      },
      "text/plain": [
       "HBox(children=(IntProgress(value=0, max=1), HTML(value='')))"
      ]
     },
     "metadata": {},
     "output_type": "display_data"
    },
    {
     "name": "stdout",
     "output_type": "stream",
     "text": [
      "Process job experiments/191101_114656_fold_seed_lr_split_model_type_sgd_train_validaton/model_type=iter_nwe_coatt,fold=3,seed=1337,lr=0.001,split=train\n",
      "\n",
      "b'----Evaluation----\\nIteration  0\\nIteration  1\\nIteration  2\\nIteration  3\\nIteration  4\\nIteration  5\\nIteration  6\\nIteration  7\\nIteration  8\\nIteration  9\\nIteration  10\\nIteration  11\\nIteration  12\\nIteration  13\\nIteration  14\\nIteration  15\\nIteration  16\\nIteration  17\\nIteration  18\\nIteration  19\\nIteration  20\\nIteration  21\\nIteration  22\\nIteration  23\\nIteration  24\\nIteration  25\\nIteration  26\\nIteration  27\\nIteration  28\\nIteration  29\\nIteration  30\\nIteration  31\\nIteration  32\\nIteration  33\\nIteration  34\\nIteration  35\\nIteration  36\\nIteration  37\\nIteration  38\\nIteration  39\\nIteration  40\\nIteration  41\\nIteration  42\\nIteration  43\\nIteration  44\\nIteration  45\\nIteration  46\\nIteration  47\\nIteration  48\\nIteration  49\\nIteration  50\\nIteration  51\\nIteration  52\\nIteration  53\\nIteration  54\\nIteration  55\\nIteration  56\\nIteration  57\\nIteration  58\\nIteration  59\\nIteration  60\\nIteration  61\\nIteration  62\\nIteration  63\\nIteration  64\\nIteration  65\\nIteration  66\\nIteration  67\\nIteration  68\\nIteration  69\\nIteration  70\\nIteration  71\\nIteration  72\\nIteration  73\\nIteration  74\\nIteration  75\\nIteration  76\\nIteration  77\\nIteration  78\\nIteration  79\\nIteration  80\\nIteration  81\\nIteration  82\\nIteration  83\\nIteration  84\\nIteration  85\\nIteration  86\\nIteration  87\\nIteration  88\\nIteration  89\\nIteration  90\\nIteration  91\\nIteration  92\\nIteration  93\\nIteration  94\\nIteration  95\\nIteration  96\\nIteration  97\\nIteration  98\\nIteration  99\\nIteration  100\\nIteration  101\\nIteration  102\\nIteration  103\\nIteration  104\\nIteration  105\\nIteration  106\\nIteration  107\\nIteration  108\\nIteration  109\\nIteration  110\\nIteration  111\\nIteration  112\\nIteration  113\\nIteration  114\\nIteration  115\\nIteration  116\\nIteration  117\\nIteration  118\\nIteration  119\\nIteration  120\\nIteration  121\\nIteration  122\\nIteration  123\\nIteration  124\\nIteration  125\\nIteration  126\\nIteration  127\\nIteration  128\\nIteration  129\\nIteration  130\\nIteration  131\\nIteration  132\\nIteration  133\\nIteration  134\\nIteration  135\\nIteration  136\\nIteration  137\\nIteration  138\\nIteration  139\\nIteration  140\\nIteration  141\\nIteration  142\\nIteration  143\\nIteration  144\\nIteration  145\\nIteration  146\\nIteration  147\\nIteration  148\\nIteration  149\\nIteration  150\\nIteration  151\\nIteration  152\\nIteration  153\\nIteration  154\\nIteration  155\\nIteration  156\\nIteration  157\\nIteration  158\\nIteration  159\\nIteration  160\\nIteration  161\\nIteration  162\\nIteration  163\\nIteration  164\\nIteration  165\\nIteration  166\\nIteration  167\\nIteration  168\\nIteration  169\\nIteration  170\\nIteration  171\\nIteration  172\\nIteration  173\\nIteration  174\\nIteration  175\\nIteration  176\\nIteration  177\\nIteration  178\\nIteration  179\\nIteration  180\\nIteration  181\\nIteration  182\\nIteration  183\\nIteration  184\\nIteration  185\\nIteration  186\\nIteration  187\\nIteration  188\\nIteration  189\\nIteration  190\\nIteration  191\\nIteration  192\\nIteration  193\\nIteration  194\\nIteration  195\\nIteration  196\\nIteration  197\\nIteration  198\\nIteration  199\\nIteration  200\\nIteration  201\\nIteration  202\\nIteration  203\\nIteration  204\\nIteration  205\\nIteration  206\\nIteration  207\\nIteration  208\\nIteration  209\\nIteration  210\\nIteration  211\\nIteration  212\\nIteration  213\\nIteration  214\\nIteration  215\\nIteration  216\\nIteration  217\\nIteration  218\\nIteration  219\\nIteration  220\\nIteration  221\\nIteration  222\\nIteration  223\\nIteration  224\\nIteration  225\\nIteration  226\\nIteration  227\\nIteration  228\\nIteration  229\\nIteration  230\\nIteration  231\\nIteration  232\\nIteration  233\\nIteration  234\\nIteration  235\\nIteration  236\\nIteration  237\\nIteration  238\\nIteration  239\\nIteration  240\\nIteration  241\\nIteration  242\\nIteration  243\\nIteration  244\\nIteration  245\\nIteration  246\\nIteration  247\\nIteration  248\\nIteration  249\\nMean IOU: 0.40692490419916966\\n'\n",
      "\n"
     ]
    }
   ],
   "source": [
    "import subprocess\n",
    "\n",
    "exp_dir = \"experiments/191029_210102_gamma_steplr_fold_num_epoch_lr_bs_model_type_seed_test_restartable/*\"\n",
    "\n",
    "exp_dir = \"experiments/191029_210102_gamma_steplr_fold_num_epoch_lr_bs_model_type_seed_test_restartable/*num_epoch=18*lr=0.001*bs=4*model_type=n*\"\n",
    "exp_dir = \"experiments/191101_114656_fold_seed_lr_split_model_type_sgd_train_validaton/*\"\n",
    "\n",
    "exp_dir = \"experiments/191101_114656_fold_seed_lr_split_model_type_sgd_train_validaton/*model_type=iter_nwe_coatt,fold=3,seed=1337,lr=0.001,split=train*\"\n",
    "\n",
    "\n",
    "uid = 12059\n",
    "jobs = glob(exp_dir)\n",
    "for j in tqdm(jobs, miniters=1, total=len(jobs)):\n",
    "    print(f'Process job {j}')\n",
    "#     message = os.system(f'python eval.py --exp_dir {j}')\n",
    "    message = subprocess.check_output(f'python eval.py --exp_dir {j}', shell=True)\n",
    "    print(\"\")\n",
    "    print(message)\n",
    "#     if message == 0:\n",
    "#         print('Success')\n",
    "        \n",
    "    output = subprocess.check_output(f'ls -ld {exp_dir}/testing/*/*' + \" | grep root | awk '{print $9}'\", shell=True)\n",
    "    output = output.decode('utf8').split('\\n')\n",
    "    for f in output:\n",
    "        if len(f) > 0:\n",
    "            print(f'changing file owner {f}')\n",
    "            subprocess.check_output(f'chown {uid}:{uid} {f}', shell=True)"
   ]
  },
  {
   "cell_type": "code",
   "execution_count": 84,
   "metadata": {},
   "outputs": [],
   "source": [
    "# !python eval.py --exp_dir experiments/191029_210102_gamma_steplr_fold_num_epoch_lr_bs_model_type_seed_test_restartable/fold=0,gamma_steplr=1,num_epoch=60,lr=0.001,bs=4,model_type=nwe,seed=1337\n"
   ]
  },
  {
   "cell_type": "code",
   "execution_count": null,
   "metadata": {},
   "outputs": [],
   "source": [
    "# import subprocess\n",
    "# output = subprocess.check_output(f'ls -ld {exp_dir}/testing/*/* | grep root | awk \"{{print $9}}\"', shell=True)\n",
    "# output.decode('utf8').split('\\n')"
   ]
  },
  {
   "cell_type": "code",
   "execution_count": null,
   "metadata": {},
   "outputs": [],
   "source": []
  },
  {
   "cell_type": "code",
   "execution_count": 63,
   "metadata": {},
   "outputs": [
    {
     "data": {
      "text/plain": [
       "['']"
      ]
     },
     "execution_count": 63,
     "metadata": {},
     "output_type": "execute_result"
    }
   ],
   "source": [
    "output = subprocess.check_output(f'ls -ld {exp_dir}/testing/*/* | grep root | awk \"{{print $9}}\"', shell=True)\n",
    "output = output.decode('utf8').split('\\n')\n",
    "output\n",
    "\n",
    "# uid = 12059\n",
    "# for f in output:\n",
    "#     if len(f) > 0:\n",
    "#         print(f'changing file {f}')\n",
    "#         subprocess.check_output(f'chown {uid}:{uid} {f}', shell=True)\n"
   ]
  },
  {
   "cell_type": "code",
   "execution_count": 50,
   "metadata": {},
   "outputs": [
    {
     "data": {
      "text/plain": [
       "'ls -ld experiments/191028_204715_gamma_steplr_fold_num_epoch_lr_bs_model_type_seed_test_restartable/*/*/testing/*/* | grep root | awk \"{print $9}\"'"
      ]
     },
     "execution_count": 50,
     "metadata": {},
     "output_type": "execute_result"
    }
   ],
   "source": [
    "f'ls -ld {exp_dir}/*/testing/*/* | grep root | awk \"{{print $9}}\"'"
   ]
  },
  {
   "cell_type": "code",
   "execution_count": 59,
   "metadata": {},
   "outputs": [
    {
     "data": {
      "text/plain": [
       "'ls -ld experiments/191028_204715_gamma_steplr_fold_num_epoch_lr_bs_model_type_seed_test_restartable/*/testing/*/* | grep root | awk \"{print $9}\"'"
      ]
     },
     "execution_count": 59,
     "metadata": {},
     "output_type": "execute_result"
    }
   ],
   "source": [
    "f'ls -ld {exp_dir}/testing/*/* | grep root | awk \"{{print $9}}\"'"
   ]
  },
  {
   "cell_type": "code",
   "execution_count": 92,
   "metadata": {},
   "outputs": [
    {
     "name": "stdout",
     "output_type": "stream",
     "text": [
      "Loaded epoch 68\n",
      "Running epoch  69  from  180\n",
      "Epoch: 69 LR: [0.01]\n",
      "  0%|                                                  | 0/2849 [00:00<?, ?it/s]----Evaluation----\n",
      "Iteration  0\n",
      "Iteration  1\n",
      "Iteration  2\n",
      "Iteration  3\n",
      "Iteration  4\n",
      "Iteration  5\n",
      "Iteration  6\n",
      "Iteration  7\n",
      "Iteration  8\n",
      "Iteration  9\n",
      "Iteration  10\n",
      "Iteration  11\n",
      "Iteration  12\n",
      "Iteration  13\n",
      "Iteration  14\n",
      "Iteration  15\n",
      "Iteration  16\n",
      "Iteration  17\n",
      "Iteration  18\n",
      "Iteration  19\n",
      "Iteration  20\n",
      "Iteration  21\n",
      "Iteration  22\n",
      "Iteration  23\n",
      "Iteration  24\n",
      "Iteration  25\n",
      "Iteration  26\n",
      "Iteration  27\n",
      "Iteration  28\n",
      "Iteration  29\n",
      "Iteration  30\n",
      "Iteration  31\n",
      "Iteration  32\n",
      "Iteration  33\n",
      "Iteration  34\n",
      "Iteration  35\n",
      "Iteration  36\n",
      "Iteration  37\n",
      "Iteration  38\n",
      "Iteration  39\n",
      "Iteration  40\n",
      "Iteration  41\n",
      "Iteration  42\n",
      "Iteration  43\n",
      "Iteration  44\n",
      "Iteration  45\n",
      "Iteration  46\n",
      "Iteration  47\n",
      "Iteration  48\n",
      "Iteration  49\n",
      "Iteration  50\n",
      "Iteration  51\n",
      "Iteration  52\n",
      "Iteration  53\n",
      "Iteration  54\n",
      "Iteration  55\n",
      "Iteration  56\n",
      "Iteration  57\n",
      "Iteration  58\n",
      "Iteration  59\n",
      "Iteration  60\n",
      "Iteration  61\n",
      "Iteration  62\n",
      "Iteration  63\n",
      "Iteration  64\n",
      "Iteration  65\n",
      "Iteration  66\n",
      "Iteration  67\n",
      "Iteration  68\n",
      "Iteration  69\n",
      "Iteration  70\n",
      "Iteration  71\n",
      "Iteration  72\n",
      "Iteration  73\n",
      "Iteration  74\n",
      "Iteration  75\n",
      "Iteration  76\n",
      "Iteration  77\n",
      "Iteration  78\n",
      "Iteration  79\n",
      "Iteration  80\n",
      "Iteration  81\n",
      "Iteration  82\n",
      "Iteration  83\n",
      "Iteration  84\n",
      "Iteration  85\n",
      "Iteration  86\n",
      "Iteration  87\n",
      "Iteration  88\n",
      "Iteration  89\n",
      "Iteration  90\n",
      "Iteration  91\n",
      "Iteration  92\n",
      "Iteration  93\n",
      "Iteration  94\n",
      "Iteration  95\n",
      "Iteration  96\n",
      "Iteration  97\n",
      "Iteration  98\n",
      "Iteration  99\n",
      "Iteration  100\n",
      "Iteration  101\n",
      "Iteration  102\n",
      "Iteration  103\n",
      "Iteration  104\n",
      "Iteration  105\n",
      "Iteration  106\n",
      "Iteration  107\n",
      "Iteration  108\n",
      "Iteration  109\n",
      "Iteration  110\n",
      "Iteration  111\n",
      "Iteration  112\n",
      "Iteration  113\n",
      "Iteration  114\n",
      "Iteration  115\n",
      "Iteration  116\n",
      "Iteration  117\n",
      "Iteration  118\n",
      "Iteration  119\n",
      "Iteration  120\n",
      "Iteration  121\n",
      "Iteration  122\n",
      "Iteration  123\n",
      "Iteration  124\n",
      "Iteration  125\n",
      "Iteration  126\n",
      "Iteration  127\n",
      "Iteration  128\n",
      "Iteration  129\n",
      "Iteration  130\n",
      "Iteration  131\n",
      "Iteration  132\n",
      "Iteration  133\n",
      "Iteration  134\n",
      "Iteration  135\n",
      "Iteration  136\n",
      "Iteration  137\n",
      "Iteration  138\n",
      "Iteration  139\n",
      "Iteration  140\n",
      "Iteration  141\n",
      "Iteration  142\n",
      "Iteration  143\n",
      "Iteration  144\n",
      "Iteration  145\n",
      "Iteration  146\n",
      "Iteration  147\n",
      "Iteration  148\n",
      "Iteration  149\n",
      "Iteration  150\n",
      "Iteration  151\n",
      "Iteration  152\n",
      "Iteration  153\n",
      "Iteration  154\n",
      "Iteration  155\n",
      "Iteration  156\n",
      "Iteration  157\n",
      "Iteration  158\n",
      "Iteration  159\n",
      "Iteration  160\n",
      "Iteration  161\n",
      "Iteration  162\n",
      "Iteration  163\n",
      "Iteration  164\n",
      "Iteration  165\n",
      "Iteration  166\n",
      "Iteration  167\n",
      "Iteration  168\n",
      "Iteration  169\n",
      "Iteration  170\n",
      "Iteration  171\n",
      "Iteration  172\n",
      "Iteration  173\n",
      "Iteration  174\n",
      "Iteration  175\n",
      "Iteration  176\n",
      "Iteration  177\n",
      "Iteration  178\n",
      "Iteration  179\n",
      "Iteration  180\n",
      "Iteration  181\n",
      "Iteration  182\n",
      "Iteration  183\n",
      "Iteration  184\n",
      "Iteration  185\n",
      "Iteration  186\n",
      "Iteration  187\n",
      "Iteration  188\n",
      "Iteration  189\n",
      "Iteration  190\n",
      "Iteration  191\n",
      "Iteration  192\n",
      "Iteration  193\n",
      "Iteration  194\n",
      "Iteration  195\n",
      "Iteration  196\n",
      "Iteration  197\n",
      "Iteration  198\n",
      "Iteration  199\n",
      "Iteration  200\n",
      "Iteration  201\n",
      "Iteration  202\n",
      "Iteration  203\n",
      "Iteration  204\n",
      "Iteration  205\n",
      "Iteration  206\n",
      "Iteration  207\n",
      "Iteration  208\n",
      "Iteration  209\n",
      "Iteration  210\n",
      "Iteration  211\n",
      "Iteration  212\n",
      "Iteration  213\n",
      "Iteration  214\n",
      "Iteration  215\n",
      "Iteration  216\n",
      "Iteration  217\n",
      "Iteration  218\n",
      "Iteration  219\n",
      "Iteration  220\n",
      "Iteration  221\n",
      "Iteration  222\n",
      "Iteration  223\n",
      "Iteration  224\n",
      "Iteration  225\n",
      "Iteration  226\n",
      "Iteration  227\n",
      "Iteration  228\n",
      "Iteration  229\n",
      "Iteration  230\n",
      "Iteration  231\n",
      "Iteration  232\n",
      "Iteration  233\n",
      "Iteration  234\n",
      "Iteration  235\n",
      "Iteration  236\n",
      "Iteration  237\n",
      "Iteration  238\n",
      "Iteration  239\n",
      "Iteration  240\n",
      "Iteration  241\n",
      "Iteration  242\n",
      "Iteration  243\n",
      "Iteration  244\n",
      "Iteration  245\n",
      "Iteration  246\n",
      "Iteration  247\n",
      "Iteration  248\n",
      "Iteration  249\n",
      "----Evaluation----\n",
      "Iteration  0\n",
      "Iteration  1\n",
      "Iteration  2\n",
      "Iteration  3\n",
      "Iteration  4\n",
      "Iteration  5\n",
      "Iteration  6\n",
      "Iteration  7\n",
      "Iteration  8\n",
      "Iteration  9\n",
      "Iteration  10\n",
      "Iteration  11\n",
      "Iteration  12\n",
      "Iteration  13\n",
      "Iteration  14\n",
      "Iteration  15\n",
      "Iteration  16\n",
      "Iteration  17\n",
      "Iteration  18\n",
      "Iteration  19\n",
      "Iteration  20\n",
      "Iteration  21\n",
      "Iteration  22\n",
      "Iteration  23\n",
      "Iteration  24\n",
      "Iteration  25\n",
      "Iteration  26\n",
      "Iteration  27\n",
      "Iteration  28\n",
      "Iteration  29\n",
      "Iteration  30\n",
      "Iteration  31\n",
      "Iteration  32\n",
      "Iteration  33\n",
      "Iteration  34\n",
      "Iteration  35\n",
      "Iteration  36\n",
      "Iteration  37\n",
      "Iteration  38\n",
      "Iteration  39\n",
      "Iteration  40\n",
      "Iteration  41\n",
      "Iteration  42\n",
      "^C\n",
      "Traceback (most recent call last):\n",
      "  File \"main.py\", line 126, in <module>\n",
      "    main()\n",
      "  File \"main.py\", line 122, in main\n",
      "    test(options)\n",
      "  File \"/mnt/scratch/boris/projects/fewshotwebly_coatt/test_oslsm_setup.py\", line 84, in test\n",
      "    pred_softmax = F.softmax(pred, dim=1).data.cpu()\n",
      "KeyboardInterrupt\n",
      "  0%|                                                  | 0/2849 [02:18<?, ?it/s]\n"
     ]
    }
   ],
   "source": [
    "!python main.py  --exp_dir=experiments/191029_210102_gamma_steplr_fold_num_epoch_lr_bs_model_type_seed_test_restartable/fold=0,gamma_steplr=1,num_epoch=180,lr=0.001,bs=4,model_type=nwe,seed=1337\n"
   ]
  },
  {
   "cell_type": "code",
   "execution_count": null,
   "metadata": {},
   "outputs": [],
   "source": []
  }
 ],
 "metadata": {
  "kernelspec": {
   "display_name": "Python 3",
   "language": "python",
   "name": "python3"
  },
  "language_info": {
   "codemirror_mode": {
    "name": "ipython",
    "version": 3
   },
   "file_extension": ".py",
   "mimetype": "text/x-python",
   "name": "python",
   "nbconvert_exporter": "python",
   "pygments_lexer": "ipython3",
   "version": "3.6.7"
  }
 },
 "nbformat": 4,
 "nbformat_minor": 2
}
